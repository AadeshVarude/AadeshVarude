{
  "nbformat": 4,
  "nbformat_minor": 0,
  "metadata": {
    "colab": {
      "provenance": [],
      "authorship_tag": "ABX9TyOQQ/pESDdpqzVBNiARFlOB",
      "include_colab_link": true
    },
    "kernelspec": {
      "name": "python3",
      "display_name": "Python 3"
    },
    "language_info": {
      "name": "python"
    }
  },
  "cells": [
    {
      "cell_type": "markdown",
      "metadata": {
        "id": "view-in-github",
        "colab_type": "text"
      },
      "source": [
        "<a href=\"https://colab.research.google.com/github/AadeshVarude/AadeshVarude/blob/main/DL_ASS.ipynb\" target=\"_parent\"><img src=\"https://colab.research.google.com/assets/colab-badge.svg\" alt=\"Open In Colab\"/></a>"
      ]
    },
    {
      "cell_type": "code",
      "execution_count": 1,
      "metadata": {
        "id": "brp_dw46sKmP"
      },
      "outputs": [],
      "source": [
        "import numpy as np \n",
        "import copy\n"
      ]
    },
    {
      "cell_type": "code",
      "source": [
        "def problem_1a (A, B):\n",
        "  return A + B\n",
        "def problem_1b (A, B, C):\n",
        "  return np.dot(A,B)-C\n",
        "def problem_1c (A, B, C):\n",
        "  return np.dot(A,B)+np.transpose(C)\n",
        "def problem_1d (x, y):\n",
        "  return np.dot(np.transpose(x),y)\n",
        "def problem_1e (A, x):\n",
        "  return np.linalg.solve(A,x)\n",
        "def problem_1f (A, i):\n",
        "  return np.sum(A[i,::2])\n",
        "def problem_1g (A, c, d):\n",
        "  return np.mean(A[np.nonzero((A<=d) & (A>=c))])\n",
        "def problem_1h (A, k):\n",
        "  w,v=np.linalg.eig(B)\n",
        "  w=np.abs(w)\n",
        "  ind=np.argsort(-w)\n",
        "  return v[:,ind[:k]]\n",
        "def problem_1i (x, k, m, s):\n",
        "  z=np.ones([len(x)])\n",
        "  mean=x+np.dot(m,z)\n",
        "  covar=s*np.identity(len(x))\n",
        "  return np.random.multivariate_normal(mean,covar,k).transpose()\n",
        "def problem_1j (A):\n",
        "  ind=np.random.permutation(len(A[0]))\n",
        "  return A[:,ind]\n",
        "def problem_1k (x):\n",
        "  mean=np.mean(x)\n",
        "  std=np.std(x)\n",
        "  return (x-mean)/std\n",
        "def problem_1l (x, k):\n",
        "  return np.repeat(np.atleast_2d(x),k,axis=-1)\n",
        "def problem_1m (X, Y):\n",
        "  k,n=X.shape\n",
        "  k,m=Y.shape\n",
        "  x=np.repeat(np.atleast_3d(X),m,axis=-1)\n",
        "  y=np.repeat(np.atleast_3d(Y),n,axis=-1)\n",
        "  y=np.swapaxes(y, 1, 2)\n",
        "  D=np.sqrt(np.sum(np.square(x-y), axis=0))\n",
        "  return D\n",
        "def problem_1n (matrices):\n",
        "  nums_mul=0\n",
        "  for i in range(len(matrices)-1):\n",
        "    nums_mul+=matrices[i].shape[0]*matrices[i].shape[1]*matrices[i+1].shape[1]\n",
        "  return nums_mul"
      ],
      "metadata": {
        "id": "L9W4brB4D-Mk"
      },
      "execution_count": 2,
      "outputs": []
    },
    {
      "cell_type": "code",
      "source": [
        "A1 = np.array([[1,2,3],[4,5,6]])\n",
        "A2 = np.array([[7,8],[9,10],[11,12]])\n",
        "A3 = np.array([[13,14],[15,16]])\n",
        "problem_1n ([A1,A2])"
      ],
      "metadata": {
        "colab": {
          "base_uri": "https://localhost:8080/"
        },
        "id": "QTGIqm4ygFBl",
        "outputId": "ad7e682e-e36e-4899-ada7-4169bc2e8440"
      },
      "execution_count": 7,
      "outputs": [
        {
          "output_type": "execute_result",
          "data": {
            "text/plain": [
              "12"
            ]
          },
          "metadata": {},
          "execution_count": 7
        }
      ]
    },
    {
      "cell_type": "code",
      "source": [
        "A=np.arange(9).reshape((1,9))\n",
        "B=np.arange(9).reshape((3, 3))\n",
        "C=np.arange(12).reshape((3, 4))\n",
        "C"
      ],
      "metadata": {
        "colab": {
          "base_uri": "https://localhost:8080/"
        },
        "id": "7aywwd0xEI7w",
        "outputId": "110e7f4a-b570-4310-e058-8bbc26835213"
      },
      "execution_count": null,
      "outputs": [
        {
          "output_type": "execute_result",
          "data": {
            "text/plain": [
              "array([[ 0,  1,  2,  3],\n",
              "       [ 4,  5,  6,  7],\n",
              "       [ 8,  9, 10, 11]])"
            ]
          },
          "metadata": {},
          "execution_count": 3
        }
      ]
    },
    {
      "cell_type": "code",
      "source": [
        "from functools import reduce\n",
        "import operator\n",
        "matrices=[B,C]\n",
        "dim=[]\n",
        "for i in matrices:\n",
        "  dim.append(i.shape[1])\n",
        "print(dim)\n",
        "dims = [A.shape[1] for A in matrices]\n",
        "result = reduce(operator.mul, dims)\n",
        "result"
      ],
      "metadata": {
        "colab": {
          "base_uri": "https://localhost:8080/"
        },
        "id": "e4D6DtHD6DGW",
        "outputId": "573e7c58-a271-450d-ac68-38da8f9eb4fa"
      },
      "execution_count": null,
      "outputs": [
        {
          "output_type": "stream",
          "name": "stdout",
          "text": [
            "[3, 4]\n"
          ]
        },
        {
          "output_type": "execute_result",
          "data": {
            "text/plain": [
              "12"
            ]
          },
          "metadata": {},
          "execution_count": 24
        }
      ]
    },
    {
      "cell_type": "code",
      "source": [
        "x=np.arange(9).reshape((9,1))\n",
        "x\n",
        "b=np.repeat(np.atleast_3d(B),4,axis=-1)\n",
        "# b=np.swapaxes(b, , 2)\n",
        "print(b)\n",
        "c=np.repeat(np.atleast_3d(C),3,axis=-1)\n",
        "c=np.swapaxes(c, 1, 2)\n",
        "print(c)\n",
        "np.sum(np.square(b-c),axis=0)"
      ],
      "metadata": {
        "colab": {
          "base_uri": "https://localhost:8080/"
        },
        "id": "5ORdaJdyunxl",
        "outputId": "6e8fdf04-284d-4f6b-9248-5d5f13576351"
      },
      "execution_count": null,
      "outputs": [
        {
          "output_type": "stream",
          "name": "stdout",
          "text": [
            "[[[0 0 0 0]\n",
            "  [1 1 1 1]\n",
            "  [2 2 2 2]]\n",
            "\n",
            " [[3 3 3 3]\n",
            "  [4 4 4 4]\n",
            "  [5 5 5 5]]\n",
            "\n",
            " [[6 6 6 6]\n",
            "  [7 7 7 7]\n",
            "  [8 8 8 8]]]\n",
            "[[[ 0  1  2  3]\n",
            "  [ 0  1  2  3]\n",
            "  [ 0  1  2  3]]\n",
            "\n",
            " [[ 4  5  6  7]\n",
            "  [ 4  5  6  7]\n",
            "  [ 4  5  6  7]]\n",
            "\n",
            " [[ 8  9 10 11]\n",
            "  [ 8  9 10 11]\n",
            "  [ 8  9 10 11]]]\n"
          ]
        },
        {
          "output_type": "execute_result",
          "data": {
            "text/plain": [
              "array([[ 5, 14, 29, 50],\n",
              "       [ 2,  5, 14, 29],\n",
              "       [ 5,  2,  5, 14]])"
            ]
          },
          "metadata": {},
          "execution_count": 149
        }
      ]
    },
    {
      "cell_type": "code",
      "source": [
        "n=len(A[0])\n",
        "print(n)\n",
        "ind=np.random.permutation(n)\n",
        "A[:,ind]"
      ],
      "metadata": {
        "colab": {
          "base_uri": "https://localhost:8080/"
        },
        "id": "Wfj5Qk04JMAB",
        "outputId": "9617a624-47bc-46af-f9a6-48901988d4df"
      },
      "execution_count": null,
      "outputs": [
        {
          "output_type": "stream",
          "name": "stdout",
          "text": [
            "3\n"
          ]
        },
        {
          "output_type": "execute_result",
          "data": {
            "text/plain": [
              "array([[0, 2, 1],\n",
              "       [3, 5, 4],\n",
              "       [6, 8, 7]])"
            ]
          },
          "metadata": {},
          "execution_count": 89
        }
      ]
    },
    {
      "cell_type": "code",
      "source": [
        "w,v=np.linalg.eig(A)\n",
        "print(w)\n",
        "sort_id = np.argsort(w)[-2:]\n",
        "print(sort_id)\n",
        "v[:, sort_id[::-1]]"
      ],
      "metadata": {
        "colab": {
          "base_uri": "https://localhost:8080/"
        },
        "id": "57MxeuyokeNt",
        "outputId": "ab2d72ad-76ff-41eb-bf8f-2e01e10ef631"
      },
      "execution_count": null,
      "outputs": [
        {
          "output_type": "stream",
          "name": "stdout",
          "text": [
            "[ 1.33484692e+01 -1.34846923e+00 -2.48477279e-16]\n",
            "[2 0]\n"
          ]
        },
        {
          "output_type": "execute_result",
          "data": {
            "text/plain": [
              "array([[ 0.16476382,  0.40824829],\n",
              "       [ 0.50577448, -0.81649658],\n",
              "       [ 0.84678513,  0.40824829]])"
            ]
          },
          "metadata": {},
          "execution_count": 61
        }
      ]
    },
    {
      "cell_type": "code",
      "source": [
        "def linear_regression (X_tr, y_tr):\n",
        "  A=np.dot(np.transpose(X_tr),X_tr)\n",
        "  X=copy.deepcopy(X_tr)\n",
        "  b=np.dot(X.transpose(),y_tr)\n",
        "  w=np.linalg.solve(A,b)\n",
        "  return w\n",
        "\n",
        "def train_age_regressor ():\n",
        "  # Load data\n",
        "  print(\"load data\")\n",
        "  X_tr = np.reshape(np.load(\"/content/age_regression_Xtr.npy\"), (-1, 48*48))\n",
        "  new_col=np.ones((X_tr.shape[0],1))\n",
        "  X_tr=np.hstack((X_tr, new_col))\n",
        "  y_tr = np.load(\"/content/age_regression_ytr.npy\")\n",
        "  w= linear_regression(X_tr, y_tr)\n",
        "  # print(\"done\")\n",
        "  return w.reshape(-1,1)"
      ],
      "metadata": {
        "id": "iIKaDAZsEBHy"
      },
      "execution_count": null,
      "outputs": []
    },
    {
      "cell_type": "code",
      "source": [
        "w=train_age_regressor()\n",
        "w\n"
      ],
      "metadata": {
        "colab": {
          "base_uri": "https://localhost:8080/"
        },
        "id": "u8wu8EuiZSIZ",
        "outputId": "3c77d67c-7870-42cd-ec45-ced5ec35fea0"
      },
      "execution_count": null,
      "outputs": [
        {
          "output_type": "stream",
          "name": "stdout",
          "text": [
            "load data\n"
          ]
        },
        {
          "output_type": "execute_result",
          "data": {
            "text/plain": [
              "array([[ 10.03075166],\n",
              "       [ -4.66718623],\n",
              "       [-18.03666814],\n",
              "       ...,\n",
              "       [-11.99892181],\n",
              "       [  5.26799667],\n",
              "       [ 37.61138638]])"
            ]
          },
          "metadata": {},
          "execution_count": 23
        }
      ]
    },
    {
      "cell_type": "code",
      "source": [
        "X_tr = np.reshape(np.load(\"/content/age_regression_Xtr.npy\"), (-1, 48*48))\n",
        "y_tr = np.load(\"/content/age_regression_ytr.npy\")\n",
        "X_te = np.reshape(np.load(\"/content/age_regression_Xte.npy\"), (-1, 48*48))\n",
        "y_te = np.load(\"/content/age_regression_yte.npy\")\n",
        "new_col=np.ones((X_tr.shape[0],1))\n",
        "X_tr=np.hstack((X_tr, new_col))\n",
        "new_col_2=np.ones((X_te.shape[0],1))\n",
        "X_te=np.hstack((X_te, new_col_2))\n",
        "fmse_tr=0\n",
        "fmse_te=0\n",
        "n=X_tr.shape[0]\n",
        "m=X_te.shape[0]\n",
        "for i in range(n):\n",
        "  fmse_tr += (1/(2*n))*(np.dot(X_tr[i,:],w)- y_tr[i])*(np.dot(X_tr[i,:],w) - y_tr[i]) \n",
        "print(fmse_tr)\n",
        "for i in range(m):\n",
        "\tfmse_te += (1/(2*m))*(np.dot(X_te[i,:],w)- y_te[i])*(np.dot(X_te[i,:],w)- y_te[i])\n",
        "print(fmse_te) "
      ],
      "metadata": {
        "colab": {
          "base_uri": "https://localhost:8080/"
        },
        "id": "hkIFqKsKsOXN",
        "outputId": "e7956f26-63dc-418b-95c3-16b573977e52"
      },
      "execution_count": null,
      "outputs": [
        {
          "output_type": "stream",
          "name": "stdout",
          "text": [
            "[39.24296299]\n",
            "[206.79647485]\n"
          ]
        }
      ]
    }
  ]
}